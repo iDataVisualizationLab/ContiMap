{
 "cells": [
  {
   "cell_type": "code",
   "execution_count": 1,
   "metadata": {},
   "outputs": [],
   "source": [
    "import pandas as pd\n",
    "import numpy as np"
   ]
  },
  {
   "cell_type": "code",
   "execution_count": 2,
   "metadata": {},
   "outputs": [],
   "source": [
    "target = pd.read_csv('STOP1_targets.csv')"
   ]
  },
  {
   "cell_type": "code",
   "execution_count": 3,
   "metadata": {},
   "outputs": [],
   "source": [
    "data = pd.read_csv('transcriptome_cpm_all_expressed_genes.csv')"
   ]
  },
  {
   "cell_type": "code",
   "execution_count": 4,
   "metadata": {},
   "outputs": [
    {
     "data": {
      "text/html": [
       "<div>\n",
       "<style scoped>\n",
       "    .dataframe tbody tr th:only-of-type {\n",
       "        vertical-align: middle;\n",
       "    }\n",
       "\n",
       "    .dataframe tbody tr th {\n",
       "        vertical-align: top;\n",
       "    }\n",
       "\n",
       "    .dataframe thead th {\n",
       "        text-align: right;\n",
       "    }\n",
       "</style>\n",
       "<table border=\"1\" class=\"dataframe\">\n",
       "  <thead>\n",
       "    <tr style=\"text-align: right;\">\n",
       "      <th></th>\n",
       "      <th>atID</th>\n",
       "      <th>wthp6</th>\n",
       "      <th>wthp6_2</th>\n",
       "      <th>wtlp6</th>\n",
       "      <th>wtlp6_2</th>\n",
       "      <th>wthp5</th>\n",
       "      <th>wthp5_2</th>\n",
       "      <th>wtlp5</th>\n",
       "      <th>wtlp5_2</th>\n",
       "      <th>wtal</th>\n",
       "      <th>...</th>\n",
       "      <th>stop1lp6</th>\n",
       "      <th>stop1lp6_2</th>\n",
       "      <th>stop1hp5</th>\n",
       "      <th>stop1hp5_2</th>\n",
       "      <th>stop1lp5</th>\n",
       "      <th>stop1lp5_2</th>\n",
       "      <th>stop1al</th>\n",
       "      <th>stop1al_2</th>\n",
       "      <th>s1fe</th>\n",
       "      <th>s1fe_2</th>\n",
       "    </tr>\n",
       "  </thead>\n",
       "  <tbody>\n",
       "    <tr>\n",
       "      <td>0</td>\n",
       "      <td>AT1G01020</td>\n",
       "      <td>18.512358</td>\n",
       "      <td>17.602610</td>\n",
       "      <td>17.799929</td>\n",
       "      <td>20.364657</td>\n",
       "      <td>18.992583</td>\n",
       "      <td>21.925784</td>\n",
       "      <td>18.287405</td>\n",
       "      <td>21.480752</td>\n",
       "      <td>19.010360</td>\n",
       "      <td>...</td>\n",
       "      <td>20.432136</td>\n",
       "      <td>22.192620</td>\n",
       "      <td>21.396058</td>\n",
       "      <td>22.064116</td>\n",
       "      <td>18.238741</td>\n",
       "      <td>21.516514</td>\n",
       "      <td>21.571426</td>\n",
       "      <td>17.084388</td>\n",
       "      <td>16.595189</td>\n",
       "      <td>21.068461</td>\n",
       "    </tr>\n",
       "    <tr>\n",
       "      <td>1</td>\n",
       "      <td>AT1G01030</td>\n",
       "      <td>0.815972</td>\n",
       "      <td>1.068366</td>\n",
       "      <td>0.684613</td>\n",
       "      <td>0.452548</td>\n",
       "      <td>0.542645</td>\n",
       "      <td>0.403048</td>\n",
       "      <td>0.564136</td>\n",
       "      <td>0.290936</td>\n",
       "      <td>0.222995</td>\n",
       "      <td>...</td>\n",
       "      <td>1.104440</td>\n",
       "      <td>0.407544</td>\n",
       "      <td>1.086965</td>\n",
       "      <td>0.735471</td>\n",
       "      <td>1.053156</td>\n",
       "      <td>0.507901</td>\n",
       "      <td>0.596656</td>\n",
       "      <td>0.533887</td>\n",
       "      <td>1.132480</td>\n",
       "      <td>1.344795</td>\n",
       "    </tr>\n",
       "    <tr>\n",
       "      <td>2</td>\n",
       "      <td>AT1G01040</td>\n",
       "      <td>36.565732</td>\n",
       "      <td>34.085979</td>\n",
       "      <td>31.915991</td>\n",
       "      <td>53.513793</td>\n",
       "      <td>37.062670</td>\n",
       "      <td>34.783000</td>\n",
       "      <td>43.438463</td>\n",
       "      <td>49.216621</td>\n",
       "      <td>42.090387</td>\n",
       "      <td>...</td>\n",
       "      <td>35.392274</td>\n",
       "      <td>27.638890</td>\n",
       "      <td>31.808043</td>\n",
       "      <td>40.871148</td>\n",
       "      <td>38.152958</td>\n",
       "      <td>37.584640</td>\n",
       "      <td>43.877199</td>\n",
       "      <td>38.973760</td>\n",
       "      <td>23.651412</td>\n",
       "      <td>27.456240</td>\n",
       "    </tr>\n",
       "    <tr>\n",
       "      <td>3</td>\n",
       "      <td>AT1G01050</td>\n",
       "      <td>103.577409</td>\n",
       "      <td>109.889125</td>\n",
       "      <td>103.213510</td>\n",
       "      <td>96.223004</td>\n",
       "      <td>100.877751</td>\n",
       "      <td>106.001495</td>\n",
       "      <td>97.595507</td>\n",
       "      <td>100.954685</td>\n",
       "      <td>89.755659</td>\n",
       "      <td>...</td>\n",
       "      <td>109.439940</td>\n",
       "      <td>120.670058</td>\n",
       "      <td>98.685025</td>\n",
       "      <td>97.397312</td>\n",
       "      <td>105.698533</td>\n",
       "      <td>111.045526</td>\n",
       "      <td>86.285705</td>\n",
       "      <td>85.373404</td>\n",
       "      <td>104.536626</td>\n",
       "      <td>106.911235</td>\n",
       "    </tr>\n",
       "    <tr>\n",
       "      <td>4</td>\n",
       "      <td>AT1G01060</td>\n",
       "      <td>1.937933</td>\n",
       "      <td>1.780611</td>\n",
       "      <td>2.934054</td>\n",
       "      <td>2.884993</td>\n",
       "      <td>3.147342</td>\n",
       "      <td>3.667732</td>\n",
       "      <td>2.444589</td>\n",
       "      <td>2.133528</td>\n",
       "      <td>1.337973</td>\n",
       "      <td>...</td>\n",
       "      <td>2.510090</td>\n",
       "      <td>2.111819</td>\n",
       "      <td>1.544635</td>\n",
       "      <td>2.364012</td>\n",
       "      <td>1.148897</td>\n",
       "      <td>3.601477</td>\n",
       "      <td>1.331003</td>\n",
       "      <td>1.116309</td>\n",
       "      <td>5.444616</td>\n",
       "      <td>3.361989</td>\n",
       "    </tr>\n",
       "  </tbody>\n",
       "</table>\n",
       "<p>5 rows × 25 columns</p>\n",
       "</div>"
      ],
      "text/plain": [
       "        atID       wthp6     wthp6_2       wtlp6    wtlp6_2       wthp5  \\\n",
       "0  AT1G01020   18.512358   17.602610   17.799929  20.364657   18.992583   \n",
       "1  AT1G01030    0.815972    1.068366    0.684613   0.452548    0.542645   \n",
       "2  AT1G01040   36.565732   34.085979   31.915991  53.513793   37.062670   \n",
       "3  AT1G01050  103.577409  109.889125  103.213510  96.223004  100.877751   \n",
       "4  AT1G01060    1.937933    1.780611    2.934054   2.884993    3.147342   \n",
       "\n",
       "      wthp5_2      wtlp5     wtlp5_2       wtal  ...    stop1lp6  stop1lp6_2  \\\n",
       "0   21.925784  18.287405   21.480752  19.010360  ...   20.432136   22.192620   \n",
       "1    0.403048   0.564136    0.290936   0.222995  ...    1.104440    0.407544   \n",
       "2   34.783000  43.438463   49.216621  42.090387  ...   35.392274   27.638890   \n",
       "3  106.001495  97.595507  100.954685  89.755659  ...  109.439940  120.670058   \n",
       "4    3.667732   2.444589    2.133528   1.337973  ...    2.510090    2.111819   \n",
       "\n",
       "    stop1hp5  stop1hp5_2    stop1lp5  stop1lp5_2    stop1al  stop1al_2  \\\n",
       "0  21.396058   22.064116   18.238741   21.516514  21.571426  17.084388   \n",
       "1   1.086965    0.735471    1.053156    0.507901   0.596656   0.533887   \n",
       "2  31.808043   40.871148   38.152958   37.584640  43.877199  38.973760   \n",
       "3  98.685025   97.397312  105.698533  111.045526  86.285705  85.373404   \n",
       "4   1.544635    2.364012    1.148897    3.601477   1.331003   1.116309   \n",
       "\n",
       "         s1fe      s1fe_2  \n",
       "0   16.595189   21.068461  \n",
       "1    1.132480    1.344795  \n",
       "2   23.651412   27.456240  \n",
       "3  104.536626  106.911235  \n",
       "4    5.444616    3.361989  \n",
       "\n",
       "[5 rows x 25 columns]"
      ]
     },
     "execution_count": 4,
     "metadata": {},
     "output_type": "execute_result"
    }
   ],
   "source": [
    "data.head()"
   ]
  },
  {
   "cell_type": "code",
   "execution_count": 5,
   "metadata": {},
   "outputs": [
    {
     "data": {
      "text/plain": [
       "Index(['atID', 'wthp6', 'wthp6_2', 'wtlp6', 'wtlp6_2', 'wthp5', 'wthp5_2',\n",
       "       'wtlp5', 'wtlp5_2', 'wtal', 'wtal_2', 'wtfe', 'wtfe_2', 'stop1hp6',\n",
       "       'stop1hp6_2', 'stop1lp6', 'stop1lp6_2', 'stop1hp5', 'stop1hp5_2',\n",
       "       'stop1lp5', 'stop1lp5_2', 'stop1al', 'stop1al_2', 's1fe', 's1fe_2'],\n",
       "      dtype='object')"
      ]
     },
     "execution_count": 5,
     "metadata": {},
     "output_type": "execute_result"
    }
   ],
   "source": [
    "data.columns"
   ]
  },
  {
   "cell_type": "code",
   "execution_count": 6,
   "metadata": {},
   "outputs": [],
   "source": [
    "wild_type = 'wthp6'\n",
    "treatments = ['stop1hp6', 'stop1lp6', 'stop1hp5', 'stop1lp5', 'stop1al', 's1fe']"
   ]
  },
  {
   "cell_type": "code",
   "execution_count": 7,
   "metadata": {},
   "outputs": [
    {
     "data": {
      "text/html": [
       "<div>\n",
       "<style scoped>\n",
       "    .dataframe tbody tr th:only-of-type {\n",
       "        vertical-align: middle;\n",
       "    }\n",
       "\n",
       "    .dataframe tbody tr th {\n",
       "        vertical-align: top;\n",
       "    }\n",
       "\n",
       "    .dataframe thead th {\n",
       "        text-align: right;\n",
       "    }\n",
       "</style>\n",
       "<table border=\"1\" class=\"dataframe\">\n",
       "  <thead>\n",
       "    <tr style=\"text-align: right;\">\n",
       "      <th></th>\n",
       "      <th>target.at_id</th>\n",
       "    </tr>\n",
       "  </thead>\n",
       "  <tbody>\n",
       "    <tr>\n",
       "      <td>0</td>\n",
       "      <td>AT1G01020</td>\n",
       "    </tr>\n",
       "    <tr>\n",
       "      <td>1</td>\n",
       "      <td>AT1G01180</td>\n",
       "    </tr>\n",
       "    <tr>\n",
       "      <td>2</td>\n",
       "      <td>AT1G01190</td>\n",
       "    </tr>\n",
       "    <tr>\n",
       "      <td>3</td>\n",
       "      <td>AT1G01490</td>\n",
       "    </tr>\n",
       "    <tr>\n",
       "      <td>4</td>\n",
       "      <td>AT1G01530</td>\n",
       "    </tr>\n",
       "  </tbody>\n",
       "</table>\n",
       "</div>"
      ],
      "text/plain": [
       "  target.at_id\n",
       "0    AT1G01020\n",
       "1    AT1G01180\n",
       "2    AT1G01190\n",
       "3    AT1G01490\n",
       "4    AT1G01530"
      ]
     },
     "execution_count": 7,
     "metadata": {},
     "output_type": "execute_result"
    }
   ],
   "source": [
    "target.head()"
   ]
  },
  {
   "cell_type": "code",
   "execution_count": 8,
   "metadata": {},
   "outputs": [],
   "source": [
    "from scipy import stats\n",
    "import matplotlib.pyplot as plt"
   ]
  },
  {
   "cell_type": "code",
   "execution_count": 9,
   "metadata": {},
   "outputs": [],
   "source": [
    "#!pip install mne"
   ]
  },
  {
   "cell_type": "code",
   "execution_count": 10,
   "metadata": {},
   "outputs": [],
   "source": [
    "from mne.stats import fdr_correction"
   ]
  },
  {
   "cell_type": "code",
   "execution_count": 11,
   "metadata": {},
   "outputs": [],
   "source": [
    "def analyze_treatment(df, treatment_name, alpha):\n",
    "    wt_data = df[['wthp6', 'wthp6' ]].values\n",
    "    T, pval = stats.ttest_ind(a=wt_data, b=df[[treatment_name, treatment_name+\"_2\"]].values, axis=1)\n",
    "    reject_fdr, pval_fdr = fdr_correction(pval, alpha=alpha, method='indep')\n",
    "    return reject_fdr"
   ]
  },
  {
   "cell_type": "code",
   "execution_count": 12,
   "metadata": {},
   "outputs": [],
   "source": [
    "def process_significant(df, alpha):\n",
    "    for treatment_name in treatments:\n",
    "        df[treatment_name+\"_sig\"] = analyze_treatment(df, treatment_name, alpha)"
   ]
  },
  {
   "cell_type": "code",
   "execution_count": 13,
   "metadata": {},
   "outputs": [],
   "source": [
    "filtered_data = data[data.atID.isin(target['target.at_id'].values)]"
   ]
  },
  {
   "cell_type": "code",
   "execution_count": 14,
   "metadata": {},
   "outputs": [
    {
     "name": "stderr",
     "output_type": "stream",
     "text": [
      "/Users/vanpham/opt/anaconda3/lib/python3.7/site-packages/scipy/stats/_distn_infrastructure.py:901: RuntimeWarning: invalid value encountered in greater\n",
      "  return (a < x) & (x < b)\n",
      "/Users/vanpham/opt/anaconda3/lib/python3.7/site-packages/scipy/stats/_distn_infrastructure.py:901: RuntimeWarning: invalid value encountered in less\n",
      "  return (a < x) & (x < b)\n",
      "/Users/vanpham/opt/anaconda3/lib/python3.7/site-packages/scipy/stats/_distn_infrastructure.py:1892: RuntimeWarning: invalid value encountered in less_equal\n",
      "  cond2 = cond0 & (x <= _a)\n",
      "/Users/vanpham/opt/anaconda3/lib/python3.7/site-packages/mne/stats/multi_comp.py:65: RuntimeWarning: invalid value encountered in less\n",
      "  reject = pvals_sorted < (ecdffactor * alpha)\n",
      "/Users/vanpham/opt/anaconda3/lib/python3.7/site-packages/ipykernel_launcher.py:3: SettingWithCopyWarning: \n",
      "A value is trying to be set on a copy of a slice from a DataFrame.\n",
      "Try using .loc[row_indexer,col_indexer] = value instead\n",
      "\n",
      "See the caveats in the documentation: http://pandas.pydata.org/pandas-docs/stable/user_guide/indexing.html#returning-a-view-versus-a-copy\n",
      "  This is separate from the ipykernel package so we can avoid doing imports until\n"
     ]
    }
   ],
   "source": [
    "alpha = 0.05\n",
    "# process_significant(data, alpha)\n",
    "process_significant(filtered_data, alpha)"
   ]
  },
  {
   "cell_type": "code",
   "execution_count": 15,
   "metadata": {},
   "outputs": [],
   "source": [
    "def significant_value_counts(df):\n",
    "    for treatment_name in treatments:\n",
    "        print(df[treatment_name + '_sig'].value_counts())"
   ]
  },
  {
   "cell_type": "code",
   "execution_count": 16,
   "metadata": {},
   "outputs": [
    {
     "name": "stdout",
     "output_type": "stream",
     "text": [
      "False    814\n",
      "True      82\n",
      "Name: stop1hp6_sig, dtype: int64\n",
      "False    786\n",
      "True     110\n",
      "Name: stop1lp6_sig, dtype: int64\n",
      "False    816\n",
      "True      80\n",
      "Name: stop1hp5_sig, dtype: int64\n",
      "False    805\n",
      "True      91\n",
      "Name: stop1lp5_sig, dtype: int64\n",
      "False    521\n",
      "True     375\n",
      "Name: stop1al_sig, dtype: int64\n",
      "False    594\n",
      "True     302\n",
      "Name: s1fe_sig, dtype: int64\n"
     ]
    }
   ],
   "source": [
    "# significant_value_counts(data)\n",
    "significant_value_counts(filtered_data)"
   ]
  },
  {
   "cell_type": "code",
   "execution_count": 17,
   "metadata": {},
   "outputs": [],
   "source": [
    "def up_down_process(df, treatment_name):\n",
    "    wt_mean = np.mean(df[[wild_type, wild_type + \"_2\"]].values, axis = 1)\n",
    "    tm_mean = np.mean(df[[treatment_name, treatment_name + \"_2\"]].values, axis = 1)\n",
    "    df_mean = wt_mean - tm_mean\n",
    "    tm_sig = df[treatment_name+\"_sig\"].values\n",
    "    return [0 if sig == False else 1 if df_mean[i] < 0 else -1 for i, sig in enumerate(tm_sig)]"
   ]
  },
  {
   "cell_type": "code",
   "execution_count": 18,
   "metadata": {},
   "outputs": [],
   "source": [
    "def process_up_down_data(df):\n",
    "    for treatment_name in treatments:\n",
    "        df[treatment_name+\"_up_down\"] = up_down_process(df, treatment_name)"
   ]
  },
  {
   "cell_type": "code",
   "execution_count": 19,
   "metadata": {},
   "outputs": [
    {
     "name": "stderr",
     "output_type": "stream",
     "text": [
      "/Users/vanpham/opt/anaconda3/lib/python3.7/site-packages/ipykernel_launcher.py:3: SettingWithCopyWarning: \n",
      "A value is trying to be set on a copy of a slice from a DataFrame.\n",
      "Try using .loc[row_indexer,col_indexer] = value instead\n",
      "\n",
      "See the caveats in the documentation: http://pandas.pydata.org/pandas-docs/stable/user_guide/indexing.html#returning-a-view-versus-a-copy\n",
      "  This is separate from the ipykernel package so we can avoid doing imports until\n"
     ]
    }
   ],
   "source": [
    "# process_up_down_data(data)\n",
    "process_up_down_data(filtered_data)"
   ]
  },
  {
   "cell_type": "code",
   "execution_count": 20,
   "metadata": {},
   "outputs": [],
   "source": [
    "def count_up_down_values(df):\n",
    "    for treatment_name in treatments:\n",
    "        print(df[treatment_name + '_up_down'].value_counts())"
   ]
  },
  {
   "cell_type": "code",
   "execution_count": 21,
   "metadata": {},
   "outputs": [
    {
     "name": "stdout",
     "output_type": "stream",
     "text": [
      " 0    814\n",
      "-1     56\n",
      " 1     26\n",
      "Name: stop1hp6_up_down, dtype: int64\n",
      " 0    786\n",
      "-1     74\n",
      " 1     36\n",
      "Name: stop1lp6_up_down, dtype: int64\n",
      " 0    816\n",
      "-1     45\n",
      " 1     35\n",
      "Name: stop1hp5_up_down, dtype: int64\n",
      " 0    805\n",
      "-1     59\n",
      " 1     32\n",
      "Name: stop1lp5_up_down, dtype: int64\n",
      " 0    521\n",
      "-1    209\n",
      " 1    166\n",
      "Name: stop1al_up_down, dtype: int64\n",
      " 0    594\n",
      "-1    204\n",
      " 1     98\n",
      "Name: s1fe_up_down, dtype: int64\n"
     ]
    }
   ],
   "source": [
    "# count_up_down_values(data)\n",
    "count_up_down_values(filtered_data)"
   ]
  },
  {
   "cell_type": "code",
   "execution_count": 22,
   "metadata": {},
   "outputs": [],
   "source": [
    "# def get_up_entries(df):\n",
    "#     up_down_values = df[[treatment_name + \"_up_down\" for treatment_name in treatments]].values\n",
    "#     up_filter = [True if 1 in row and -1 not in row else False for row in up_down_values]\n",
    "#     return up_filter\n",
    "\n",
    "def get_up_entries(df):\n",
    "    up_down_values = df[[treatment_name + \"_up_down\" for treatment_name in treatments]].values\n",
    "    up_filter = [True if 1 in row else False for row in up_down_values]\n",
    "    return up_filter"
   ]
  },
  {
   "cell_type": "code",
   "execution_count": 23,
   "metadata": {},
   "outputs": [],
   "source": [
    "# def get_down_entries(df):\n",
    "#     up_down_values = df[[treatment_name + \"_up_down\" for treatment_name in treatments]].values\n",
    "#     down_filter = [True if -1 in row and 1 not in row else False for row in up_down_values]\n",
    "#     return down_filter\n",
    "\n",
    "def get_down_entries(df):\n",
    "    up_down_values = df[[treatment_name + \"_up_down\" for treatment_name in treatments]].values\n",
    "    down_filter = [True if -1 in row else False for row in up_down_values]\n",
    "    return down_filter"
   ]
  },
  {
   "cell_type": "code",
   "execution_count": 24,
   "metadata": {},
   "outputs": [],
   "source": [
    "# up_df = data[get_up_entries(data)]\n",
    "up_df = filtered_data[get_up_entries(filtered_data)]"
   ]
  },
  {
   "cell_type": "code",
   "execution_count": 25,
   "metadata": {},
   "outputs": [
    {
     "data": {
      "text/plain": [
       "305"
      ]
     },
     "execution_count": 25,
     "metadata": {},
     "output_type": "execute_result"
    }
   ],
   "source": [
    "len(up_df)"
   ]
  },
  {
   "cell_type": "code",
   "execution_count": 26,
   "metadata": {},
   "outputs": [],
   "source": [
    "# down_df = data[get_down_entries(data)]\n",
    "down_df = filtered_data[get_down_entries(filtered_data)]"
   ]
  },
  {
   "cell_type": "code",
   "execution_count": 27,
   "metadata": {},
   "outputs": [
    {
     "data": {
      "text/plain": [
       "410"
      ]
     },
     "execution_count": 27,
     "metadata": {},
     "output_type": "execute_result"
    }
   ],
   "source": [
    "len(down_df)"
   ]
  },
  {
   "cell_type": "code",
   "execution_count": 28,
   "metadata": {},
   "outputs": [],
   "source": [
    "def get_up_and_down_entries(df):\n",
    "    up_down_values = df[[treatment_name + \"_up_down\" for treatment_name in treatments]].values\n",
    "    up_down_filter = [True if -1 in row and 1 in row else False for row in up_down_values]\n",
    "    return up_down_filter"
   ]
  },
  {
   "cell_type": "code",
   "execution_count": 29,
   "metadata": {},
   "outputs": [],
   "source": [
    "# up_down_df = data[get_up_and_down_entries(data)]\n",
    "up_down_df = filtered_data[get_up_and_down_entries(filtered_data)]"
   ]
  },
  {
   "cell_type": "code",
   "execution_count": 30,
   "metadata": {},
   "outputs": [
    {
     "data": {
      "text/plain": [
       "80"
      ]
     },
     "execution_count": 30,
     "metadata": {},
     "output_type": "execute_result"
    }
   ],
   "source": [
    "len(up_down_df)"
   ]
  },
  {
   "cell_type": "code",
   "execution_count": 31,
   "metadata": {},
   "outputs": [
    {
     "data": {
      "text/plain": [
       "305"
      ]
     },
     "execution_count": 31,
     "metadata": {},
     "output_type": "execute_result"
    }
   ],
   "source": [
    "filtered_up_df = up_df[up_df.atID.isin(target['target.at_id'].values)]\n",
    "len(filtered_up_df)"
   ]
  },
  {
   "cell_type": "code",
   "execution_count": 32,
   "metadata": {},
   "outputs": [
    {
     "data": {
      "text/html": [
       "<div>\n",
       "<style scoped>\n",
       "    .dataframe tbody tr th:only-of-type {\n",
       "        vertical-align: middle;\n",
       "    }\n",
       "\n",
       "    .dataframe tbody tr th {\n",
       "        vertical-align: top;\n",
       "    }\n",
       "\n",
       "    .dataframe thead th {\n",
       "        text-align: right;\n",
       "    }\n",
       "</style>\n",
       "<table border=\"1\" class=\"dataframe\">\n",
       "  <thead>\n",
       "    <tr style=\"text-align: right;\">\n",
       "      <th></th>\n",
       "      <th>atID</th>\n",
       "      <th>wthp6</th>\n",
       "      <th>wthp6_2</th>\n",
       "      <th>wtlp6</th>\n",
       "      <th>wtlp6_2</th>\n",
       "      <th>wthp5</th>\n",
       "      <th>wthp5_2</th>\n",
       "      <th>wtlp5</th>\n",
       "      <th>wtlp5_2</th>\n",
       "      <th>wtal</th>\n",
       "      <th>...</th>\n",
       "      <th>stop1hp5_sig</th>\n",
       "      <th>stop1lp5_sig</th>\n",
       "      <th>stop1al_sig</th>\n",
       "      <th>s1fe_sig</th>\n",
       "      <th>stop1hp6_up_down</th>\n",
       "      <th>stop1lp6_up_down</th>\n",
       "      <th>stop1hp5_up_down</th>\n",
       "      <th>stop1lp5_up_down</th>\n",
       "      <th>stop1al_up_down</th>\n",
       "      <th>s1fe_up_down</th>\n",
       "    </tr>\n",
       "  </thead>\n",
       "  <tbody>\n",
       "    <tr>\n",
       "      <td>39</td>\n",
       "      <td>AT1G01490</td>\n",
       "      <td>91.847816</td>\n",
       "      <td>113.246848</td>\n",
       "      <td>98.551624</td>\n",
       "      <td>107.310428</td>\n",
       "      <td>127.033251</td>\n",
       "      <td>124.581985</td>\n",
       "      <td>103.612956</td>\n",
       "      <td>118.071402</td>\n",
       "      <td>88.473435</td>\n",
       "      <td>...</td>\n",
       "      <td>False</td>\n",
       "      <td>False</td>\n",
       "      <td>False</td>\n",
       "      <td>True</td>\n",
       "      <td>1</td>\n",
       "      <td>0</td>\n",
       "      <td>0</td>\n",
       "      <td>0</td>\n",
       "      <td>0</td>\n",
       "      <td>-1</td>\n",
       "    </tr>\n",
       "    <tr>\n",
       "      <td>57</td>\n",
       "      <td>AT1G01710</td>\n",
       "      <td>30.394946</td>\n",
       "      <td>28.438899</td>\n",
       "      <td>27.514909</td>\n",
       "      <td>31.225807</td>\n",
       "      <td>28.977256</td>\n",
       "      <td>26.722050</td>\n",
       "      <td>27.266567</td>\n",
       "      <td>29.675441</td>\n",
       "      <td>31.776848</td>\n",
       "      <td>...</td>\n",
       "      <td>False</td>\n",
       "      <td>False</td>\n",
       "      <td>False</td>\n",
       "      <td>True</td>\n",
       "      <td>0</td>\n",
       "      <td>0</td>\n",
       "      <td>0</td>\n",
       "      <td>0</td>\n",
       "      <td>0</td>\n",
       "      <td>1</td>\n",
       "    </tr>\n",
       "    <tr>\n",
       "      <td>351</td>\n",
       "      <td>AT1G05000</td>\n",
       "      <td>47.938338</td>\n",
       "      <td>52.502582</td>\n",
       "      <td>127.468359</td>\n",
       "      <td>96.845257</td>\n",
       "      <td>70.598146</td>\n",
       "      <td>58.643412</td>\n",
       "      <td>111.604881</td>\n",
       "      <td>114.483195</td>\n",
       "      <td>181.183784</td>\n",
       "      <td>...</td>\n",
       "      <td>False</td>\n",
       "      <td>True</td>\n",
       "      <td>True</td>\n",
       "      <td>True</td>\n",
       "      <td>-1</td>\n",
       "      <td>1</td>\n",
       "      <td>0</td>\n",
       "      <td>1</td>\n",
       "      <td>1</td>\n",
       "      <td>-1</td>\n",
       "    </tr>\n",
       "    <tr>\n",
       "      <td>369</td>\n",
       "      <td>AT1G05170</td>\n",
       "      <td>14.891484</td>\n",
       "      <td>14.702758</td>\n",
       "      <td>15.485287</td>\n",
       "      <td>13.067321</td>\n",
       "      <td>16.170828</td>\n",
       "      <td>17.935614</td>\n",
       "      <td>16.689020</td>\n",
       "      <td>14.934699</td>\n",
       "      <td>16.613159</td>\n",
       "      <td>...</td>\n",
       "      <td>False</td>\n",
       "      <td>False</td>\n",
       "      <td>False</td>\n",
       "      <td>True</td>\n",
       "      <td>0</td>\n",
       "      <td>0</td>\n",
       "      <td>0</td>\n",
       "      <td>0</td>\n",
       "      <td>0</td>\n",
       "      <td>1</td>\n",
       "    </tr>\n",
       "    <tr>\n",
       "      <td>398</td>\n",
       "      <td>AT1G05430</td>\n",
       "      <td>22.796210</td>\n",
       "      <td>26.454789</td>\n",
       "      <td>23.211630</td>\n",
       "      <td>21.778869</td>\n",
       "      <td>24.364771</td>\n",
       "      <td>22.449746</td>\n",
       "      <td>23.740718</td>\n",
       "      <td>24.875002</td>\n",
       "      <td>21.574808</td>\n",
       "      <td>...</td>\n",
       "      <td>False</td>\n",
       "      <td>True</td>\n",
       "      <td>False</td>\n",
       "      <td>False</td>\n",
       "      <td>1</td>\n",
       "      <td>0</td>\n",
       "      <td>0</td>\n",
       "      <td>1</td>\n",
       "      <td>0</td>\n",
       "      <td>0</td>\n",
       "    </tr>\n",
       "  </tbody>\n",
       "</table>\n",
       "<p>5 rows × 37 columns</p>\n",
       "</div>"
      ],
      "text/plain": [
       "          atID      wthp6     wthp6_2       wtlp6     wtlp6_2       wthp5  \\\n",
       "39   AT1G01490  91.847816  113.246848   98.551624  107.310428  127.033251   \n",
       "57   AT1G01710  30.394946   28.438899   27.514909   31.225807   28.977256   \n",
       "351  AT1G05000  47.938338   52.502582  127.468359   96.845257   70.598146   \n",
       "369  AT1G05170  14.891484   14.702758   15.485287   13.067321   16.170828   \n",
       "398  AT1G05430  22.796210   26.454789   23.211630   21.778869   24.364771   \n",
       "\n",
       "        wthp5_2       wtlp5     wtlp5_2        wtal  ...  stop1hp5_sig  \\\n",
       "39   124.581985  103.612956  118.071402   88.473435  ...         False   \n",
       "57    26.722050   27.266567   29.675441   31.776848  ...         False   \n",
       "351   58.643412  111.604881  114.483195  181.183784  ...         False   \n",
       "369   17.935614   16.689020   14.934699   16.613159  ...         False   \n",
       "398   22.449746   23.740718   24.875002   21.574808  ...         False   \n",
       "\n",
       "     stop1lp5_sig  stop1al_sig  s1fe_sig  stop1hp6_up_down  stop1lp6_up_down  \\\n",
       "39          False        False      True                 1                 0   \n",
       "57          False        False      True                 0                 0   \n",
       "351          True         True      True                -1                 1   \n",
       "369         False        False      True                 0                 0   \n",
       "398          True        False     False                 1                 0   \n",
       "\n",
       "     stop1hp5_up_down  stop1lp5_up_down  stop1al_up_down  s1fe_up_down  \n",
       "39                  0                 0                0            -1  \n",
       "57                  0                 0                0             1  \n",
       "351                 0                 1                1            -1  \n",
       "369                 0                 0                0             1  \n",
       "398                 0                 1                0             0  \n",
       "\n",
       "[5 rows x 37 columns]"
      ]
     },
     "execution_count": 32,
     "metadata": {},
     "output_type": "execute_result"
    }
   ],
   "source": [
    "filtered_up_df.head()"
   ]
  },
  {
   "cell_type": "code",
   "execution_count": 33,
   "metadata": {},
   "outputs": [
    {
     "data": {
      "text/plain": [
       "410"
      ]
     },
     "execution_count": 33,
     "metadata": {},
     "output_type": "execute_result"
    }
   ],
   "source": [
    "filtered_down_df = down_df[down_df.atID.isin(target['target.at_id'].values)]\n",
    "len(filtered_down_df)"
   ]
  },
  {
   "cell_type": "code",
   "execution_count": 34,
   "metadata": {},
   "outputs": [
    {
     "data": {
      "text/html": [
       "<div>\n",
       "<style scoped>\n",
       "    .dataframe tbody tr th:only-of-type {\n",
       "        vertical-align: middle;\n",
       "    }\n",
       "\n",
       "    .dataframe tbody tr th {\n",
       "        vertical-align: top;\n",
       "    }\n",
       "\n",
       "    .dataframe thead th {\n",
       "        text-align: right;\n",
       "    }\n",
       "</style>\n",
       "<table border=\"1\" class=\"dataframe\">\n",
       "  <thead>\n",
       "    <tr style=\"text-align: right;\">\n",
       "      <th></th>\n",
       "      <th>atID</th>\n",
       "      <th>wthp6</th>\n",
       "      <th>wthp6_2</th>\n",
       "      <th>wtlp6</th>\n",
       "      <th>wtlp6_2</th>\n",
       "      <th>wthp5</th>\n",
       "      <th>wthp5_2</th>\n",
       "      <th>wtlp5</th>\n",
       "      <th>wtlp5_2</th>\n",
       "      <th>wtal</th>\n",
       "      <th>...</th>\n",
       "      <th>stop1hp5_sig</th>\n",
       "      <th>stop1lp5_sig</th>\n",
       "      <th>stop1al_sig</th>\n",
       "      <th>s1fe_sig</th>\n",
       "      <th>stop1hp6_up_down</th>\n",
       "      <th>stop1lp6_up_down</th>\n",
       "      <th>stop1hp5_up_down</th>\n",
       "      <th>stop1lp5_up_down</th>\n",
       "      <th>stop1al_up_down</th>\n",
       "      <th>s1fe_up_down</th>\n",
       "    </tr>\n",
       "  </thead>\n",
       "  <tbody>\n",
       "    <tr>\n",
       "      <td>16</td>\n",
       "      <td>AT1G01190</td>\n",
       "      <td>27.896033</td>\n",
       "      <td>17.653484</td>\n",
       "      <td>21.255593</td>\n",
       "      <td>19.063582</td>\n",
       "      <td>22.736836</td>\n",
       "      <td>11.970511</td>\n",
       "      <td>38.220206</td>\n",
       "      <td>24.099173</td>\n",
       "      <td>34.564291</td>\n",
       "      <td>...</td>\n",
       "      <td>False</td>\n",
       "      <td>False</td>\n",
       "      <td>False</td>\n",
       "      <td>False</td>\n",
       "      <td>0</td>\n",
       "      <td>-1</td>\n",
       "      <td>0</td>\n",
       "      <td>0</td>\n",
       "      <td>0</td>\n",
       "      <td>0</td>\n",
       "    </tr>\n",
       "    <tr>\n",
       "      <td>39</td>\n",
       "      <td>AT1G01490</td>\n",
       "      <td>91.847816</td>\n",
       "      <td>113.246848</td>\n",
       "      <td>98.551624</td>\n",
       "      <td>107.310428</td>\n",
       "      <td>127.033251</td>\n",
       "      <td>124.581985</td>\n",
       "      <td>103.612956</td>\n",
       "      <td>118.071402</td>\n",
       "      <td>88.473435</td>\n",
       "      <td>...</td>\n",
       "      <td>False</td>\n",
       "      <td>False</td>\n",
       "      <td>False</td>\n",
       "      <td>True</td>\n",
       "      <td>1</td>\n",
       "      <td>0</td>\n",
       "      <td>0</td>\n",
       "      <td>0</td>\n",
       "      <td>0</td>\n",
       "      <td>-1</td>\n",
       "    </tr>\n",
       "    <tr>\n",
       "      <td>66</td>\n",
       "      <td>AT1G01780</td>\n",
       "      <td>33.352844</td>\n",
       "      <td>27.065284</td>\n",
       "      <td>40.163943</td>\n",
       "      <td>25.286116</td>\n",
       "      <td>41.349567</td>\n",
       "      <td>42.481207</td>\n",
       "      <td>34.929413</td>\n",
       "      <td>39.130851</td>\n",
       "      <td>45.323820</td>\n",
       "      <td>...</td>\n",
       "      <td>False</td>\n",
       "      <td>False</td>\n",
       "      <td>True</td>\n",
       "      <td>False</td>\n",
       "      <td>0</td>\n",
       "      <td>0</td>\n",
       "      <td>0</td>\n",
       "      <td>0</td>\n",
       "      <td>-1</td>\n",
       "      <td>0</td>\n",
       "    </tr>\n",
       "    <tr>\n",
       "      <td>81</td>\n",
       "      <td>AT1G01960</td>\n",
       "      <td>126.169626</td>\n",
       "      <td>121.386783</td>\n",
       "      <td>119.905019</td>\n",
       "      <td>190.296404</td>\n",
       "      <td>135.932633</td>\n",
       "      <td>132.118973</td>\n",
       "      <td>158.193102</td>\n",
       "      <td>151.674474</td>\n",
       "      <td>153.643849</td>\n",
       "      <td>...</td>\n",
       "      <td>False</td>\n",
       "      <td>False</td>\n",
       "      <td>False</td>\n",
       "      <td>True</td>\n",
       "      <td>0</td>\n",
       "      <td>0</td>\n",
       "      <td>0</td>\n",
       "      <td>0</td>\n",
       "      <td>0</td>\n",
       "      <td>-1</td>\n",
       "    </tr>\n",
       "    <tr>\n",
       "      <td>153</td>\n",
       "      <td>AT1G02890</td>\n",
       "      <td>118.876878</td>\n",
       "      <td>121.997278</td>\n",
       "      <td>115.503937</td>\n",
       "      <td>171.289391</td>\n",
       "      <td>135.281459</td>\n",
       "      <td>121.800957</td>\n",
       "      <td>143.572581</td>\n",
       "      <td>134.703226</td>\n",
       "      <td>126.494156</td>\n",
       "      <td>...</td>\n",
       "      <td>False</td>\n",
       "      <td>False</td>\n",
       "      <td>False</td>\n",
       "      <td>True</td>\n",
       "      <td>0</td>\n",
       "      <td>0</td>\n",
       "      <td>0</td>\n",
       "      <td>0</td>\n",
       "      <td>0</td>\n",
       "      <td>-1</td>\n",
       "    </tr>\n",
       "  </tbody>\n",
       "</table>\n",
       "<p>5 rows × 37 columns</p>\n",
       "</div>"
      ],
      "text/plain": [
       "          atID       wthp6     wthp6_2       wtlp6     wtlp6_2       wthp5  \\\n",
       "16   AT1G01190   27.896033   17.653484   21.255593   19.063582   22.736836   \n",
       "39   AT1G01490   91.847816  113.246848   98.551624  107.310428  127.033251   \n",
       "66   AT1G01780   33.352844   27.065284   40.163943   25.286116   41.349567   \n",
       "81   AT1G01960  126.169626  121.386783  119.905019  190.296404  135.932633   \n",
       "153  AT1G02890  118.876878  121.997278  115.503937  171.289391  135.281459   \n",
       "\n",
       "        wthp5_2       wtlp5     wtlp5_2        wtal  ...  stop1hp5_sig  \\\n",
       "16    11.970511   38.220206   24.099173   34.564291  ...         False   \n",
       "39   124.581985  103.612956  118.071402   88.473435  ...         False   \n",
       "66    42.481207   34.929413   39.130851   45.323820  ...         False   \n",
       "81   132.118973  158.193102  151.674474  153.643849  ...         False   \n",
       "153  121.800957  143.572581  134.703226  126.494156  ...         False   \n",
       "\n",
       "     stop1lp5_sig  stop1al_sig  s1fe_sig  stop1hp6_up_down  stop1lp6_up_down  \\\n",
       "16          False        False     False                 0                -1   \n",
       "39          False        False      True                 1                 0   \n",
       "66          False         True     False                 0                 0   \n",
       "81          False        False      True                 0                 0   \n",
       "153         False        False      True                 0                 0   \n",
       "\n",
       "     stop1hp5_up_down  stop1lp5_up_down  stop1al_up_down  s1fe_up_down  \n",
       "16                  0                 0                0             0  \n",
       "39                  0                 0                0            -1  \n",
       "66                  0                 0               -1             0  \n",
       "81                  0                 0                0            -1  \n",
       "153                 0                 0                0            -1  \n",
       "\n",
       "[5 rows x 37 columns]"
      ]
     },
     "execution_count": 34,
     "metadata": {},
     "output_type": "execute_result"
    }
   ],
   "source": [
    "filtered_down_df.head()"
   ]
  },
  {
   "cell_type": "code",
   "execution_count": 35,
   "metadata": {},
   "outputs": [
    {
     "data": {
      "text/plain": [
       "80"
      ]
     },
     "execution_count": 35,
     "metadata": {},
     "output_type": "execute_result"
    }
   ],
   "source": [
    "filtered_up_down_df = up_down_df[up_down_df.atID.isin(target['target.at_id'].values)]\n",
    "len(filtered_up_down_df)"
   ]
  },
  {
   "cell_type": "code",
   "execution_count": 36,
   "metadata": {},
   "outputs": [
    {
     "data": {
      "text/html": [
       "<div>\n",
       "<style scoped>\n",
       "    .dataframe tbody tr th:only-of-type {\n",
       "        vertical-align: middle;\n",
       "    }\n",
       "\n",
       "    .dataframe tbody tr th {\n",
       "        vertical-align: top;\n",
       "    }\n",
       "\n",
       "    .dataframe thead th {\n",
       "        text-align: right;\n",
       "    }\n",
       "</style>\n",
       "<table border=\"1\" class=\"dataframe\">\n",
       "  <thead>\n",
       "    <tr style=\"text-align: right;\">\n",
       "      <th></th>\n",
       "      <th>atID</th>\n",
       "      <th>wthp6</th>\n",
       "      <th>wthp6_2</th>\n",
       "      <th>wtlp6</th>\n",
       "      <th>wtlp6_2</th>\n",
       "      <th>wthp5</th>\n",
       "      <th>wthp5_2</th>\n",
       "      <th>wtlp5</th>\n",
       "      <th>wtlp5_2</th>\n",
       "      <th>wtal</th>\n",
       "      <th>...</th>\n",
       "      <th>stop1hp5_sig</th>\n",
       "      <th>stop1lp5_sig</th>\n",
       "      <th>stop1al_sig</th>\n",
       "      <th>s1fe_sig</th>\n",
       "      <th>stop1hp6_up_down</th>\n",
       "      <th>stop1lp6_up_down</th>\n",
       "      <th>stop1hp5_up_down</th>\n",
       "      <th>stop1lp5_up_down</th>\n",
       "      <th>stop1al_up_down</th>\n",
       "      <th>s1fe_up_down</th>\n",
       "    </tr>\n",
       "  </thead>\n",
       "  <tbody>\n",
       "    <tr>\n",
       "      <td>39</td>\n",
       "      <td>AT1G01490</td>\n",
       "      <td>91.847816</td>\n",
       "      <td>113.246848</td>\n",
       "      <td>98.551624</td>\n",
       "      <td>107.310428</td>\n",
       "      <td>127.033251</td>\n",
       "      <td>124.581985</td>\n",
       "      <td>103.612956</td>\n",
       "      <td>118.071402</td>\n",
       "      <td>88.473435</td>\n",
       "      <td>...</td>\n",
       "      <td>False</td>\n",
       "      <td>False</td>\n",
       "      <td>False</td>\n",
       "      <td>True</td>\n",
       "      <td>1</td>\n",
       "      <td>0</td>\n",
       "      <td>0</td>\n",
       "      <td>0</td>\n",
       "      <td>0</td>\n",
       "      <td>-1</td>\n",
       "    </tr>\n",
       "    <tr>\n",
       "      <td>351</td>\n",
       "      <td>AT1G05000</td>\n",
       "      <td>47.938338</td>\n",
       "      <td>52.502582</td>\n",
       "      <td>127.468359</td>\n",
       "      <td>96.845257</td>\n",
       "      <td>70.598146</td>\n",
       "      <td>58.643412</td>\n",
       "      <td>111.604881</td>\n",
       "      <td>114.483195</td>\n",
       "      <td>181.183784</td>\n",
       "      <td>...</td>\n",
       "      <td>False</td>\n",
       "      <td>True</td>\n",
       "      <td>True</td>\n",
       "      <td>True</td>\n",
       "      <td>-1</td>\n",
       "      <td>1</td>\n",
       "      <td>0</td>\n",
       "      <td>1</td>\n",
       "      <td>1</td>\n",
       "      <td>-1</td>\n",
       "    </tr>\n",
       "    <tr>\n",
       "      <td>702</td>\n",
       "      <td>AT1G08340</td>\n",
       "      <td>23.816174</td>\n",
       "      <td>20.095465</td>\n",
       "      <td>27.873516</td>\n",
       "      <td>19.572698</td>\n",
       "      <td>29.194314</td>\n",
       "      <td>32.646848</td>\n",
       "      <td>32.014711</td>\n",
       "      <td>31.566523</td>\n",
       "      <td>25.086985</td>\n",
       "      <td>...</td>\n",
       "      <td>False</td>\n",
       "      <td>False</td>\n",
       "      <td>True</td>\n",
       "      <td>True</td>\n",
       "      <td>0</td>\n",
       "      <td>0</td>\n",
       "      <td>0</td>\n",
       "      <td>0</td>\n",
       "      <td>-1</td>\n",
       "      <td>1</td>\n",
       "    </tr>\n",
       "    <tr>\n",
       "      <td>809</td>\n",
       "      <td>AT1G09310</td>\n",
       "      <td>4.640839</td>\n",
       "      <td>1.119241</td>\n",
       "      <td>1.206222</td>\n",
       "      <td>0.791959</td>\n",
       "      <td>0.813968</td>\n",
       "      <td>9.028264</td>\n",
       "      <td>0.846204</td>\n",
       "      <td>1.357700</td>\n",
       "      <td>14.383205</td>\n",
       "      <td>...</td>\n",
       "      <td>True</td>\n",
       "      <td>True</td>\n",
       "      <td>True</td>\n",
       "      <td>False</td>\n",
       "      <td>0</td>\n",
       "      <td>0</td>\n",
       "      <td>1</td>\n",
       "      <td>-1</td>\n",
       "      <td>-1</td>\n",
       "      <td>0</td>\n",
       "    </tr>\n",
       "    <tr>\n",
       "      <td>1076</td>\n",
       "      <td>AT1G12110</td>\n",
       "      <td>1112.526428</td>\n",
       "      <td>1169.454312</td>\n",
       "      <td>856.450448</td>\n",
       "      <td>1326.191707</td>\n",
       "      <td>1255.735355</td>\n",
       "      <td>1272.058240</td>\n",
       "      <td>1567.780615</td>\n",
       "      <td>1305.186006</td>\n",
       "      <td>1287.352598</td>\n",
       "      <td>...</td>\n",
       "      <td>True</td>\n",
       "      <td>False</td>\n",
       "      <td>True</td>\n",
       "      <td>True</td>\n",
       "      <td>0</td>\n",
       "      <td>0</td>\n",
       "      <td>1</td>\n",
       "      <td>0</td>\n",
       "      <td>-1</td>\n",
       "      <td>-1</td>\n",
       "    </tr>\n",
       "  </tbody>\n",
       "</table>\n",
       "<p>5 rows × 37 columns</p>\n",
       "</div>"
      ],
      "text/plain": [
       "           atID        wthp6      wthp6_2       wtlp6      wtlp6_2  \\\n",
       "39    AT1G01490    91.847816   113.246848   98.551624   107.310428   \n",
       "351   AT1G05000    47.938338    52.502582  127.468359    96.845257   \n",
       "702   AT1G08340    23.816174    20.095465   27.873516    19.572698   \n",
       "809   AT1G09310     4.640839     1.119241    1.206222     0.791959   \n",
       "1076  AT1G12110  1112.526428  1169.454312  856.450448  1326.191707   \n",
       "\n",
       "            wthp5      wthp5_2        wtlp5      wtlp5_2         wtal  ...  \\\n",
       "39     127.033251   124.581985   103.612956   118.071402    88.473435  ...   \n",
       "351     70.598146    58.643412   111.604881   114.483195   181.183784  ...   \n",
       "702     29.194314    32.646848    32.014711    31.566523    25.086985  ...   \n",
       "809      0.813968     9.028264     0.846204     1.357700    14.383205  ...   \n",
       "1076  1255.735355  1272.058240  1567.780615  1305.186006  1287.352598  ...   \n",
       "\n",
       "      stop1hp5_sig  stop1lp5_sig  stop1al_sig  s1fe_sig  stop1hp6_up_down  \\\n",
       "39           False         False        False      True                 1   \n",
       "351          False          True         True      True                -1   \n",
       "702          False         False         True      True                 0   \n",
       "809           True          True         True     False                 0   \n",
       "1076          True         False         True      True                 0   \n",
       "\n",
       "      stop1lp6_up_down  stop1hp5_up_down  stop1lp5_up_down  stop1al_up_down  \\\n",
       "39                   0                 0                 0                0   \n",
       "351                  1                 0                 1                1   \n",
       "702                  0                 0                 0               -1   \n",
       "809                  0                 1                -1               -1   \n",
       "1076                 0                 1                 0               -1   \n",
       "\n",
       "      s1fe_up_down  \n",
       "39              -1  \n",
       "351             -1  \n",
       "702              1  \n",
       "809              0  \n",
       "1076            -1  \n",
       "\n",
       "[5 rows x 37 columns]"
      ]
     },
     "execution_count": 36,
     "metadata": {},
     "output_type": "execute_result"
    }
   ],
   "source": [
    "filtered_up_down_df.head()"
   ]
  },
  {
   "cell_type": "code",
   "execution_count": 37,
   "metadata": {},
   "outputs": [],
   "source": [
    "target_diff_expressed = pd.read_csv('Targets_differentially_expressed.csv')"
   ]
  },
  {
   "cell_type": "code",
   "execution_count": 38,
   "metadata": {},
   "outputs": [
    {
     "data": {
      "text/html": [
       "<div>\n",
       "<style scoped>\n",
       "    .dataframe tbody tr th:only-of-type {\n",
       "        vertical-align: middle;\n",
       "    }\n",
       "\n",
       "    .dataframe tbody tr th {\n",
       "        vertical-align: top;\n",
       "    }\n",
       "\n",
       "    .dataframe thead th {\n",
       "        text-align: right;\n",
       "    }\n",
       "</style>\n",
       "<table border=\"1\" class=\"dataframe\">\n",
       "  <thead>\n",
       "    <tr style=\"text-align: right;\">\n",
       "      <th></th>\n",
       "      <th>TARGETS|upregulated</th>\n",
       "      <th>TARGETS|downregulated</th>\n",
       "      <th>TARGETS|up|down</th>\n",
       "    </tr>\n",
       "  </thead>\n",
       "  <tbody>\n",
       "    <tr>\n",
       "      <td>0</td>\n",
       "      <td>AT1G01190</td>\n",
       "      <td>AT1G01180</td>\n",
       "      <td>AT2G27120</td>\n",
       "    </tr>\n",
       "    <tr>\n",
       "      <td>1</td>\n",
       "      <td>AT1G05000</td>\n",
       "      <td>AT1G03760</td>\n",
       "      <td>AT2G35710</td>\n",
       "    </tr>\n",
       "    <tr>\n",
       "      <td>2</td>\n",
       "      <td>AT1G05170</td>\n",
       "      <td>AT1G04800</td>\n",
       "      <td>AT3G51330</td>\n",
       "    </tr>\n",
       "    <tr>\n",
       "      <td>3</td>\n",
       "      <td>AT1G06650</td>\n",
       "      <td>AT1G06420</td>\n",
       "      <td>AT3G62830</td>\n",
       "    </tr>\n",
       "    <tr>\n",
       "      <td>4</td>\n",
       "      <td>AT1G08430</td>\n",
       "      <td>AT1G09780</td>\n",
       "      <td>AT4G10550</td>\n",
       "    </tr>\n",
       "  </tbody>\n",
       "</table>\n",
       "</div>"
      ],
      "text/plain": [
       "  TARGETS|upregulated TARGETS|downregulated TARGETS|up|down\n",
       "0           AT1G01190             AT1G01180       AT2G27120\n",
       "1           AT1G05000             AT1G03760       AT2G35710\n",
       "2           AT1G05170             AT1G04800       AT3G51330\n",
       "3           AT1G06650             AT1G06420       AT3G62830\n",
       "4           AT1G08430             AT1G09780       AT4G10550"
      ]
     },
     "execution_count": 38,
     "metadata": {},
     "output_type": "execute_result"
    }
   ],
   "source": [
    "target_diff_expressed.head()"
   ]
  },
  {
   "cell_type": "code",
   "execution_count": 43,
   "metadata": {},
   "outputs": [
    {
     "name": "stdout",
     "output_type": "stream",
     "text": [
      "common up 101 out of 175 given and 305 up found\n"
     ]
    }
   ],
   "source": [
    "common_up = filtered_up_df[filtered_up_df.atID.isin(target_diff_expressed['TARGETS|upregulated'].values)]\n",
    "given_up = 175\n",
    "print(f'common up {len(common_up)} out of {given_up} given and {len(filtered_up_df)} up found')"
   ]
  },
  {
   "cell_type": "code",
   "execution_count": 40,
   "metadata": {},
   "outputs": [
    {
     "name": "stdout",
     "output_type": "stream",
     "text": [
      "common down 87 out of 114 given and 410 down found\n"
     ]
    }
   ],
   "source": [
    "common_down = filtered_down_df[filtered_down_df.atID.isin(target_diff_expressed['TARGETS|downregulated'].values)]\n",
    "given_down = 114\n",
    "print(f'common down {len(common_down)} out of {given_down} given and {len(filtered_down_df)} down found')"
   ]
  },
  {
   "cell_type": "code",
   "execution_count": 44,
   "metadata": {},
   "outputs": [
    {
     "name": "stdout",
     "output_type": "stream",
     "text": [
      "common up down 0 out of 7 given and 80 up down found\n"
     ]
    }
   ],
   "source": [
    "common_up_down = filtered_up_down_df[filtered_up_down_df.atID.isin(target_diff_expressed['TARGETS|up|down'].values)]\n",
    "given_up_down = 7\n",
    "print(f'common up down {len(common_up_down)} out of {given_up_down} given and {len(filtered_up_down_df)} up down found')"
   ]
  },
  {
   "cell_type": "code",
   "execution_count": null,
   "metadata": {},
   "outputs": [],
   "source": []
  }
 ],
 "metadata": {
  "kernelspec": {
   "display_name": "Python 3",
   "language": "python",
   "name": "python3"
  },
  "language_info": {
   "codemirror_mode": {
    "name": "ipython",
    "version": 3
   },
   "file_extension": ".py",
   "mimetype": "text/x-python",
   "name": "python",
   "nbconvert_exporter": "python",
   "pygments_lexer": "ipython3",
   "version": "3.7.4"
  }
 },
 "nbformat": 4,
 "nbformat_minor": 2
}
